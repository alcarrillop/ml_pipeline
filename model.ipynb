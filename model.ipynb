{
 "cells": [
  {
   "cell_type": "code",
   "execution_count": 6,
   "metadata": {},
   "outputs": [],
   "source": [
    "# init values\n",
    "def create_spark_session():\n",
    "    \"\"\"\n",
    "    Crea una sesión de Spark y devuelve el objeto SparkSession.\n",
    "    \"\"\"\n",
    "    spark = SparkSession.builder \\\n",
    "        .appName(\"Inicialización de datos\") \\\n",
    "        .getOrCreate()\n",
    "    return spark\n",
    "\n",
    "def init_dataframes(spark, input_directory):\n",
    "    \"\"\"\n",
    "    Inicializa los dataframes con los datos de entrada y devuelve los dataframes.\n",
    "    \"\"\"\n",
    "    # Ejemplo de carga de datos desde archivos CSV y JSON\n",
    "    df_csv = spark.read.csv(input_directory + \"/pays.csv\", header=True, inferSchema=True)\n",
    "    df_json1 = spark.read.json(input_directory + \"/prints.json\")\n",
    "    df_json2 = spark.read.json(input_directory + \"/taps.json\")\n",
    "\n",
    "    return df_csv, df_json1, df_json2"
   ]
  },
  {
   "cell_type": "code",
   "execution_count": 8,
   "metadata": {},
   "outputs": [
    {
     "name": "stderr",
     "output_type": "stream",
     "text": [
      "                                                                                \r"
     ]
    }
   ],
   "source": [
    "from pyspark.sql import SparkSession\n",
    "\n",
    "# Crea una sesión de Spark\n",
    "spark = create_spark_session()\n",
    "\n",
    "# Directorio de entrada\n",
    "input_directory = \"./data\"\n",
    "output_directory = \"./output\"\n",
    "\n",
    "# Inicializa los dataframes con los datos de entrada\n",
    "df_csv, df_json1, df_json2 = init_dataframes(spark, input_directory)"
   ]
  },
  {
   "cell_type": "code",
   "execution_count": 13,
   "metadata": {},
   "outputs": [
    {
     "name": "stdout",
     "output_type": "stream",
     "text": [
      "+----------+------+-------+------------------+\n",
      "|  pay_date| total|user_id|        value_prop|\n",
      "+----------+------+-------+------------------+\n",
      "|2020-11-01|  7.04|  35994|        link_cobro|\n",
      "|2020-11-01| 37.36|  79066|cellphone_recharge|\n",
      "|2020-11-01| 15.84|  19321|cellphone_recharge|\n",
      "|2020-11-01| 26.26|  19321|        send_money|\n",
      "|2020-11-01| 35.35|  38438|        send_money|\n",
      "|2020-11-01| 20.95|  85939|         transport|\n",
      "|2020-11-01| 74.48|  14372|           prepaid|\n",
      "|2020-11-01| 31.52|  14372|        link_cobro|\n",
      "|2020-11-01| 83.76|  65274|         transport|\n",
      "|2020-11-01| 93.54|  65274|           prepaid|\n",
      "|2020-11-01| 37.84|  97428|        link_cobro|\n",
      "|2020-11-01| 26.77|  82163|        link_cobro|\n",
      "|2020-11-01| 92.56|   9816|        send_money|\n",
      "|2020-11-01|122.03|   9816|           prepaid|\n",
      "|2020-11-01| 83.66|  28929|           prepaid|\n",
      "|2020-11-01|136.78|  97275|        link_cobro|\n",
      "|2020-11-01| 17.34|  85001|cellphone_recharge|\n",
      "|2020-11-01| 41.93|  85001|        link_cobro|\n",
      "|2020-11-01| 31.38|     42|        send_money|\n",
      "|2020-11-01| 39.28|     42|         transport|\n",
      "+----------+------+-------+------------------+\n",
      "only showing top 20 rows\n",
      "\n"
     ]
    }
   ],
   "source": [
    "from pyspark.sql.functions import *\n",
    "\n",
    "df_csv.show()"
   ]
  },
  {
   "cell_type": "code",
   "execution_count": 60,
   "metadata": {},
   "outputs": [
    {
     "name": "stdout",
     "output_type": "stream",
     "text": [
      "+----------+-----------------------+-------+\n",
      "|day       |event_data             |user_id|\n",
      "+----------+-----------------------+-------+\n",
      "|2020-11-01|{0, cellphone_recharge}|98702  |\n",
      "|2020-11-01|{1, prepaid}           |98702  |\n",
      "|2020-11-01|{0, prepaid}           |63252  |\n",
      "|2020-11-01|{0, cellphone_recharge}|24728  |\n",
      "|2020-11-01|{1, link_cobro}        |24728  |\n",
      "|2020-11-01|{2, credits_consumer}  |24728  |\n",
      "|2020-11-01|{3, point}             |24728  |\n",
      "|2020-11-01|{0, point}             |25517  |\n",
      "|2020-11-01|{1, credits_consumer}  |25517  |\n",
      "|2020-11-01|{2, transport}         |25517  |\n",
      "|2020-11-01|{0, point}             |57587  |\n",
      "|2020-11-01|{0, transport}         |13609  |\n",
      "|2020-11-01|{0, cellphone_recharge}|3708   |\n",
      "|2020-11-01|{1, prepaid}           |3708   |\n",
      "|2020-11-01|{2, point}             |3708   |\n",
      "|2020-11-01|{3, send_money}        |3708   |\n",
      "|2020-11-01|{0, send_money}        |99571  |\n",
      "|2020-11-01|{1, point}             |99571  |\n",
      "|2020-11-01|{2, link_cobro}        |99571  |\n",
      "|2020-11-01|{0, prepaid}           |53823  |\n",
      "+----------+-----------------------+-------+\n",
      "only showing top 20 rows\n",
      "\n"
     ]
    }
   ],
   "source": [
    "#df_json1.select(\"day\").distinct().orderBy(col(\"day\").asc()).show(truncate=False)\n",
    "df_json1.show(truncate=False)"
   ]
  },
  {
   "cell_type": "code",
   "execution_count": 61,
   "metadata": {},
   "outputs": [
    {
     "name": "stdout",
     "output_type": "stream",
     "text": [
      "+----------+\n",
      "|day       |\n",
      "+----------+\n",
      "|2020-11-01|\n",
      "|2020-11-02|\n",
      "|2020-11-03|\n",
      "|2020-11-04|\n",
      "|2020-11-05|\n",
      "|2020-11-06|\n",
      "|2020-11-07|\n",
      "|2020-11-08|\n",
      "|2020-11-09|\n",
      "|2020-11-10|\n",
      "|2020-11-11|\n",
      "|2020-11-12|\n",
      "|2020-11-13|\n",
      "|2020-11-14|\n",
      "|2020-11-15|\n",
      "|2020-11-16|\n",
      "|2020-11-17|\n",
      "|2020-11-18|\n",
      "|2020-11-19|\n",
      "|2020-11-20|\n",
      "+----------+\n",
      "only showing top 20 rows\n",
      "\n"
     ]
    }
   ],
   "source": [
    "df_json2.select(\"day\").distinct().orderBy(col(\"day\").asc()).show(truncate=False)"
   ]
  },
  {
   "cell_type": "code",
   "execution_count": 9,
   "metadata": {},
   "outputs": [
    {
     "name": "stdout",
     "output_type": "stream",
     "text": [
      "Fecha actual: 2024-03-20\n",
      "Hace tres semanas: 2024-02-28\n",
      "Hace una semana: 2024-03-13\n"
     ]
    }
   ],
   "source": [
    "import datetime\n",
    "\n",
    "current_date = datetime.datetime.now().date()\n",
    "three_weeks_ago = current_date - datetime.timedelta(days=21)\n",
    "one_week_ago = current_date - datetime.timedelta(days=7)\n",
    "\n",
    "print(\"Fecha actual:\", current_date)\n",
    "print(\"Hace tres semanas:\", three_weeks_ago)\n",
    "print(\"Hace una semana:\", one_week_ago)"
   ]
  },
  {
   "cell_type": "code",
   "execution_count": 10,
   "metadata": {},
   "outputs": [
    {
     "name": "stdout",
     "output_type": "stream",
     "text": [
      "Fecha actual: 2020-11-21\n",
      "Hace tres semanas: 2020-10-31\n",
      "Hace una semana: 2020-11-14\n"
     ]
    }
   ],
   "source": [
    "fecha_str = \"2020-11-21\"\n",
    "\n",
    "# Convertir la cadena a un objeto de fecha\n",
    "current_date = datetime.datetime.strptime(fecha_str, \"%Y-%m-%d\").date()\n",
    "three_weeks_ago = current_date - datetime.timedelta(days=21)\n",
    "one_week_ago = current_date - datetime.timedelta(days=7)\n",
    "\n",
    "print(\"Fecha actual:\", current_date)\n",
    "print(\"Hace tres semanas:\", three_weeks_ago)\n",
    "print(\"Hace una semana:\", one_week_ago)\n"
   ]
  },
  {
   "cell_type": "code",
   "execution_count": 64,
   "metadata": {},
   "outputs": [
    {
     "name": "stdout",
     "output_type": "stream",
     "text": [
      "Cantidad de registros prints:  508617\n",
      "Cantidad de registros taps:  50859\n"
     ]
    }
   ],
   "source": [
    "print(\"Cantidad de registros prints: \", df_json1.count())\n",
    "print(\"Cantidad de registros taps: \", df_json2.count())"
   ]
  },
  {
   "cell_type": "code",
   "execution_count": 14,
   "metadata": {},
   "outputs": [],
   "source": [
    "# Convertir la columna 'day' a tipo fecha en los DataFrames df_prints, df_taps\n",
    "df_prints = df_json1.withColumn(\"day\", col(\"day\").cast(\"date\")).selectExpr(\"user_id\", \"day\", \"event_data.value_prop as value_prop\")\n",
    "df_taps = df_json2.withColumn(\"day\", col(\"day\").cast(\"date\")).selectExpr(\"user_id\", \"day\", \"event_data.value_prop as value_prop\")\n",
    "\n",
    "# Filtrar los eventos de la última semana para cada \"print\"\n",
    "df_last_week_prints = df_prints.filter(col(\"day\") > one_week_ago)\n",
    "df_last_week_taps = df_taps.filter(col(\"day\") > one_week_ago)\n",
    "\n",
    "df_3weeks_prints = df_prints.filter((col(\"day\") > three_weeks_ago) & (col(\"day\") < one_week_ago))\n",
    "df_3weeks_taps = df_taps.filter((col(\"day\") > three_weeks_ago) & (col(\"day\") < one_week_ago))\n",
    "df_3weeks_pays = df_csv.withColumn(\"pay_date\", col(\"pay_date\").cast(\"date\")).filter((col(\"pay_date\") > three_weeks_ago) & (col(\"pay_date\") < one_week_ago))\n"
   ]
  },
  {
   "cell_type": "code",
   "execution_count": 66,
   "metadata": {},
   "outputs": [
    {
     "name": "stderr",
     "output_type": "stream",
     "text": [
      "[Stage 277:===================================>                     (5 + 3) / 8]\r"
     ]
    },
    {
     "name": "stdout",
     "output_type": "stream",
     "text": [
      "Número de filas antes de eliminar duplicados: 266518\n",
      "Número de filas después de eliminar duplicados: 266518\n",
      "Número de filas duplicadas eliminadas: 0\n"
     ]
    },
    {
     "name": "stderr",
     "output_type": "stream",
     "text": [
      "                                                                                \r"
     ]
    }
   ],
   "source": [
    "#df_last_week_prints.show(truncate=False)\n",
    "#df_last_week_prints.count()\n",
    "\n",
    "# Verificar el número de filas antes de eliminar duplicados\n",
    "num_rows_before = df_last_week_prints.count()\n",
    "\n",
    "# Eliminar filas duplicadas\n",
    "df_no_duplicates = df_last_week_prints.dropDuplicates()\n",
    "\n",
    "# Verificar el número de filas después de eliminar duplicados\n",
    "num_rows_after = df_no_duplicates.count()\n",
    "\n",
    "# Calcular el número de filas duplicadas\n",
    "num_duplicates = num_rows_before - num_rows_after\n",
    "\n",
    "print(\"Número de filas antes de eliminar duplicados:\", num_rows_before)\n",
    "print(\"Número de filas después de eliminar duplicados:\", num_rows_after)\n",
    "print(\"Número de filas duplicadas eliminadas:\", num_duplicates)\n"
   ]
  },
  {
   "cell_type": "code",
   "execution_count": 67,
   "metadata": {},
   "outputs": [
    {
     "name": "stdout",
     "output_type": "stream",
     "text": [
      "Número de filas antes de eliminar duplicados: 26643\n",
      "Número de filas después de eliminar duplicados: 26643\n",
      "Número de filas duplicadas eliminadas: 0\n"
     ]
    }
   ],
   "source": [
    "#df_last_week_taps.show(truncate=False)\n",
    "#df_last_week_taps.count()\n",
    "\n",
    "# Verificar el número de filas antes de eliminar duplicados\n",
    "num_rows_before = df_last_week_taps.count()\n",
    "\n",
    "# Eliminar filas duplicadas\n",
    "df_no_duplicates = df_last_week_taps.dropDuplicates()\n",
    "\n",
    "# Verificar el número de filas después de eliminar duplicados\n",
    "num_rows_after = df_no_duplicates.count()\n",
    "\n",
    "# Calcular el número de filas duplicadas\n",
    "num_duplicates = num_rows_before - num_rows_after\n",
    "\n",
    "print(\"Número de filas antes de eliminar duplicados:\", num_rows_before)\n",
    "print(\"Número de filas después de eliminar duplicados:\", num_rows_after)\n",
    "print(\"Número de filas duplicadas eliminadas:\", num_duplicates)"
   ]
  },
  {
   "cell_type": "code",
   "execution_count": 76,
   "metadata": {},
   "outputs": [
    {
     "name": "stderr",
     "output_type": "stream",
     "text": [
      "                                                                                \r"
     ]
    },
    {
     "name": "stdout",
     "output_type": "stream",
     "text": [
      "Cantidad de registros:  266518\n",
      "Cantidad de registros:  266518\n",
      "+-------+------------------+----------+-------+\n",
      "|user_id|        value_prop|       day|clicked|\n",
      "+-------+------------------+----------+-------+\n",
      "|  30069|        send_money|2020-11-15|  false|\n",
      "|  47604|           prepaid|2020-11-15|  false|\n",
      "|  43158|             point|2020-11-15|  false|\n",
      "|  43158|cellphone_recharge|2020-11-15|  false|\n",
      "|  43158|           prepaid|2020-11-15|  false|\n",
      "|  48531|        send_money|2020-11-15|  false|\n",
      "|  48531|        link_cobro|2020-11-15|  false|\n",
      "|  52959|         transport|2020-11-15|  false|\n",
      "|  89193|cellphone_recharge|2020-11-15|   true|\n",
      "|  89193|         transport|2020-11-15|  false|\n",
      "|  89193|           prepaid|2020-11-15|  false|\n",
      "|  89193|  credits_consumer|2020-11-15|  false|\n",
      "|  42567|        send_money|2020-11-15|  false|\n",
      "|  39495|             point|2020-11-15|   true|\n",
      "|   4974|        send_money|2020-11-15|  false|\n",
      "|   4974|        link_cobro|2020-11-15|  false|\n",
      "|  60208|cellphone_recharge|2020-11-15|   true|\n",
      "|   3047|           prepaid|2020-11-15|  false|\n",
      "|   3047|cellphone_recharge|2020-11-15|  false|\n",
      "|   3047|  credits_consumer|2020-11-15|  false|\n",
      "+-------+------------------+----------+-------+\n",
      "only showing top 20 rows\n",
      "\n"
     ]
    }
   ],
   "source": [
    "df_prints_with_taps = df_last_week_prints.alias(\"prints\")\\\n",
    "            .join(df_last_week_taps.alias(\"taps\"), \n",
    "                  on = [\"user_id\", \"value_prop\", \"day\"], \n",
    "                  how = \"left_outer\")\\\n",
    "            .select(\"prints.*\", when(col(\"taps.day\").isNull(), False).otherwise(True).alias(\"clicked\"))\n",
    "\n",
    "print(\"Cantidad de registros: \", df_prints_with_taps.count())\n",
    "print(\"Cantidad de registros: \", df_last_week_prints.count())\n",
    "df_prints_with_taps.show()"
   ]
  },
  {
   "cell_type": "code",
   "execution_count": 77,
   "metadata": {},
   "outputs": [],
   "source": [
    "df_json1_3weeks_grouped = df_3weeks_prints.groupBy(\"user_id\", \"value_prop\").count().withColumnRenamed(\"count\", \"print_count_3weeks\")\n",
    "df_json2_3weeks_grouped = df_3weeks_taps.groupBy(\"user_id\", \"value_prop\").count().withColumnRenamed(\"count\", \"tap_count_3weeks\")\n",
    "df_csv_3weeks_grouped = df_3weeks_pays.groupBy(\"user_id\", \"value_prop\")\\\n",
    "    .agg(count(\"total\").alias(\"payment_count_3weeks\"), sum(\"total\").alias(\"total_spent_3weeks\"))\n"
   ]
  },
  {
   "cell_type": "code",
   "execution_count": 78,
   "metadata": {},
   "outputs": [
    {
     "name": "stderr",
     "output_type": "stream",
     "text": [
      "[Stage 347:========================================>                (5 + 2) / 7]\r"
     ]
    },
    {
     "name": "stdout",
     "output_type": "stream",
     "text": [
      "+-------+------------------+--------------------+------------------+\n",
      "|user_id|        value_prop|payment_count_3weeks|total_spent_3weeks|\n",
      "+-------+------------------+--------------------+------------------+\n",
      "|  85418|             point|                   1|            109.64|\n",
      "|  82670|        link_cobro|                   1|              5.03|\n",
      "|  91597|         transport|                   1|              0.69|\n",
      "|  43625|        send_money|                   1|            165.56|\n",
      "|  33567|cellphone_recharge|                   1|             22.24|\n",
      "|  30669|  credits_consumer|                   2|11.200000000000001|\n",
      "|  44230|        send_money|                   1|             40.48|\n",
      "|   1594|        send_money|                   1|             71.05|\n",
      "|   3000|cellphone_recharge|                   1|            153.31|\n",
      "|  19103|        link_cobro|                   2|24.299999999999997|\n",
      "|  57926|  credits_consumer|                   1|             65.61|\n",
      "|  99924|           prepaid|                   2|43.989999999999995|\n",
      "|  80606|cellphone_recharge|                   1|             51.12|\n",
      "|   2035|cellphone_recharge|                   2|             187.3|\n",
      "|  61344|  credits_consumer|                   3|             83.84|\n",
      "|  24119|           prepaid|                   1|             41.11|\n",
      "|  41684|             point|                   1|            139.42|\n",
      "|  99793|        send_money|                   2|            164.35|\n",
      "|  20320|         transport|                   1|             66.98|\n",
      "|  30466|         transport|                   1|             13.18|\n",
      "+-------+------------------+--------------------+------------------+\n",
      "only showing top 20 rows\n",
      "\n"
     ]
    },
    {
     "name": "stderr",
     "output_type": "stream",
     "text": [
      "                                                                                \r"
     ]
    }
   ],
   "source": [
    "df_csv_3weeks_grouped.show()"
   ]
  },
  {
   "cell_type": "code",
   "execution_count": 79,
   "metadata": {},
   "outputs": [],
   "source": [
    "df_final = df_prints_with_taps.join(df_json1_3weeks_grouped, [\"user_id\", \"value_prop\"], \"left\")\\\n",
    "            .join(df_json2_3weeks_grouped, [\"user_id\", \"value_prop\"], \"left\")\\\n",
    "            .join(df_csv_3weeks_grouped, [\"user_id\", \"value_prop\"], \"left\") "
   ]
  },
  {
   "cell_type": "code",
   "execution_count": 80,
   "metadata": {},
   "outputs": [
    {
     "name": "stderr",
     "output_type": "stream",
     "text": [
      "                                                                                \r"
     ]
    },
    {
     "data": {
      "text/plain": [
       "266518"
      ]
     },
     "execution_count": 80,
     "metadata": {},
     "output_type": "execute_result"
    }
   ],
   "source": [
    "df_final.count()"
   ]
  },
  {
   "cell_type": "code",
   "execution_count": 81,
   "metadata": {},
   "outputs": [
    {
     "name": "stderr",
     "output_type": "stream",
     "text": [
      "                                                                                \r"
     ]
    },
    {
     "name": "stdout",
     "output_type": "stream",
     "text": [
      "+-------+------------------+----------+-------+------------------+----------------+--------------------+------------------+\n",
      "|user_id|        value_prop|       day|clicked|print_count_3weeks|tap_count_3weeks|payment_count_3weeks|total_spent_3weeks|\n",
      "+-------+------------------+----------+-------+------------------+----------------+--------------------+------------------+\n",
      "|   3047|  credits_consumer|2020-11-15|  false|                 1|            NULL|                NULL|              NULL|\n",
      "|   4335|  credits_consumer|2020-11-17|  false|                 1|            NULL|                   1|              23.5|\n",
      "|   8408|        link_cobro|2020-11-29|  false|              NULL|            NULL|                NULL|              NULL|\n",
      "|  14003|             point|2020-11-29|   true|              NULL|            NULL|                NULL|              NULL|\n",
      "|  20018|cellphone_recharge|2020-11-17|  false|              NULL|            NULL|                NULL|              NULL|\n",
      "|  24793|  credits_consumer|2020-11-29|  false|                 2|               1|                NULL|              NULL|\n",
      "|  24793|        link_cobro|2020-11-29|  false|                 1|            NULL|                NULL|              NULL|\n",
      "|  27016|         transport|2020-11-17|  false|              NULL|            NULL|                   1|             21.22|\n",
      "|  30916|        send_money|2020-11-25|  false|              NULL|            NULL|                NULL|              NULL|\n",
      "|  45679|cellphone_recharge|2020-11-25|  false|              NULL|            NULL|                NULL|              NULL|\n",
      "|  48531|        send_money|2020-11-15|  false|                 2|            NULL|                   1|             18.31|\n",
      "|  50331|           prepaid|2020-11-25|  false|              NULL|            NULL|                NULL|              NULL|\n",
      "|  68846|         transport|2020-11-21|   true|              NULL|            NULL|                   1|              6.13|\n",
      "|  71567|        send_money|2020-11-21|  false|              NULL|            NULL|                NULL|              NULL|\n",
      "|  71567|         transport|2020-11-21|  false|              NULL|            NULL|                   1|              1.39|\n",
      "|  82357|  credits_consumer|2020-11-21|   true|              NULL|            NULL|                   1|             24.25|\n",
      "|  85957|           prepaid|2020-11-25|  false|              NULL|            NULL|                NULL|              NULL|\n",
      "|  86246|cellphone_recharge|2020-11-29|  false|                 1|            NULL|                   1|            188.73|\n",
      "|  88073|         transport|2020-11-29|  false|              NULL|            NULL|                   1|             58.55|\n",
      "|  91283|cellphone_recharge|2020-11-17|  false|              NULL|            NULL|                NULL|              NULL|\n",
      "+-------+------------------+----------+-------+------------------+----------------+--------------------+------------------+\n",
      "only showing top 20 rows\n",
      "\n"
     ]
    }
   ],
   "source": [
    "df_final.show()"
   ]
  },
  {
   "cell_type": "code",
   "execution_count": 91,
   "metadata": {},
   "outputs": [
    {
     "name": "stderr",
     "output_type": "stream",
     "text": [
      "                                                                                \r"
     ]
    }
   ],
   "source": [
    "compresor = 'snappy'\n",
    "\n",
    "df_final.coalesce(1).write.mode(\"overwrite\").parquet(output_directory, compression=compresor)\n"
   ]
  },
  {
   "cell_type": "code",
   "execution_count": 2,
   "metadata": {},
   "outputs": [
    {
     "data": {
      "text/plain": [
       "'/Users/andrescarrillo/projects/ml_pipeline/config/config.conf'"
      ]
     },
     "execution_count": 2,
     "metadata": {},
     "output_type": "execute_result"
    }
   ],
   "source": [
    "import os\n",
    "os.path.join(os.getcwd(), \"config\", \"config.conf\")"
   ]
  },
  {
   "cell_type": "code",
   "execution_count": 4,
   "metadata": {},
   "outputs": [
    {
     "ename": "NameError",
     "evalue": "name 'config' is not defined",
     "output_type": "error",
     "traceback": [
      "\u001b[0;31m---------------------------------------------------------------------------\u001b[0m",
      "\u001b[0;31mNameError\u001b[0m                                 Traceback (most recent call last)",
      "\u001b[1;32m/Users/andrescarrillo/projects/ml_pipeline/model.ipynb Cell 20\u001b[0m line \u001b[0;36m2\n\u001b[1;32m      <a href='vscode-notebook-cell:/Users/andrescarrillo/projects/ml_pipeline/model.ipynb#X25sZmlsZQ%3D%3D?line=0'>1</a>\u001b[0m config_file \u001b[39m=\u001b[39m os\u001b[39m.\u001b[39mpath\u001b[39m.\u001b[39mjoin(os\u001b[39m.\u001b[39mgetcwd(), \u001b[39m\"\u001b[39m\u001b[39mconfig\u001b[39m\u001b[39m\"\u001b[39m, \u001b[39m\"\u001b[39m\u001b[39mconfig.conf\u001b[39m\u001b[39m\"\u001b[39m)\n\u001b[0;32m----> <a href='vscode-notebook-cell:/Users/andrescarrillo/projects/ml_pipeline/model.ipynb#X25sZmlsZQ%3D%3D?line=1'>2</a>\u001b[0m config\u001b[39m.\u001b[39mread(config_file)\n",
      "\u001b[0;31mNameError\u001b[0m: name 'config' is not defined"
     ]
    }
   ],
   "source": [
    "config_file = os.path.join(os.getcwd(), \"config\", \"config.conf\")\n",
    "config.read(config_file)"
   ]
  },
  {
   "cell_type": "code",
   "execution_count": null,
   "metadata": {},
   "outputs": [],
   "source": []
  }
 ],
 "metadata": {
  "kernelspec": {
   "display_name": "venv",
   "language": "python",
   "name": "python3"
  },
  "language_info": {
   "codemirror_mode": {
    "name": "ipython",
    "version": 3
   },
   "file_extension": ".py",
   "mimetype": "text/x-python",
   "name": "python",
   "nbconvert_exporter": "python",
   "pygments_lexer": "ipython3",
   "version": "3.11.5"
  },
  "orig_nbformat": 4
 },
 "nbformat": 4,
 "nbformat_minor": 2
}
